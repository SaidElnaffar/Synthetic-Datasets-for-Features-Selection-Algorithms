{
 "cells": [
  {
   "cell_type": "markdown",
   "metadata": {},
   "source": [
    "# Synthetic Data"
   ]
  },
  {
   "cell_type": "code",
   "execution_count": 19,
   "metadata": {
    "executionInfo": {
     "elapsed": 1,
     "status": "ok",
     "timestamp": 1665584734108,
     "user": {
      "displayName": "F K",
      "userId": "13365684069309883962"
     },
     "user_tz": -240
    },
    "id": "NOS8JMYtEDub"
   },
   "outputs": [],
   "source": [
    "import numpy as np\n",
    "from numpy import logical_or as lor\n",
    "from numpy import logical_and as land\n",
    "from numpy import logical_not as lnot\n",
    "from numpy import logical_xor as lxor\n",
    "import random\n",
    "import pandas as pd\n",
    "import matplotlib.pyplot as plt"
   ]
  },
  {
   "cell_type": "code",
   "execution_count": 20,
   "metadata": {},
   "outputs": [],
   "source": [
    "# generate a list of all possible combinations of 3-bits\n",
    "def gen_3(): \n",
    "  rlvnt = []\n",
    "  for i in [0,1]:\n",
    "    for j in [0,1]:\n",
    "      for k in [0,1]:\n",
    "        rlvnt.append([i,j,k])\n",
    "  return rlvnt\n",
    "\n",
    "# create 2 correlated features in case of binary target (y) \n",
    "# by randomly fliping 30% of the values of y  \n",
    "\n",
    "def make_cor(y):\n",
    "  random.seed(0)\n",
    "  cor_vars = []\n",
    "  for i in range(2):\n",
    "    cor_i = y.copy()\n",
    "    ind = random.sample(range(len(y)), int(0.3*len(y)))\n",
    "    cor_i[ind] = lnot(cor_i[ind])\n",
    "    cor_vars.append(cor_i)\n",
    "  return np.array(cor_vars).transpose()"
   ]
  },
  {
   "cell_type": "markdown",
   "metadata": {
    "id": "GP7yqnjXgBuv"
   },
   "source": [
    "### ORAND"
   ]
  },
  {
   "cell_type": "code",
   "execution_count": 21,
   "metadata": {
    "executionInfo": {
     "elapsed": 399,
     "status": "ok",
     "timestamp": 1665586916184,
     "user": {
      "displayName": "F K",
      "userId": "13365684069309883962"
     },
     "user_tz": -240
    },
    "id": "xZ2khlf5I4KJ"
   },
   "outputs": [
    {
     "ename": "AssertionError",
     "evalue": "",
     "output_type": "error",
     "traceback": [
      "\u001b[1;31m---------------------------------------------------------------------------\u001b[0m",
      "\u001b[1;31mAssertionError\u001b[0m                            Traceback (most recent call last)",
      "\u001b[1;32md:\\All_Data\\Work\\Research\\Publications\\01. In Progress\\2023\\Firuz-Synthetic Datasets\\synth_data_github-v2 copy.ipynb Cell 5\u001b[0m in \u001b[0;36m<cell line: 19>\u001b[1;34m()\u001b[0m\n\u001b[0;32m     <a href='vscode-notebook-cell:/d%3A/All_Data/Work/Research/Publications/01.%20In%20Progress/2023/Firuz-Synthetic%20Datasets/synth_data_github-v2%20copy.ipynb#W4sZmlsZQ%3D%3D?line=16'>17</a>\u001b[0m \u001b[39mimport\u001b[39;00m \u001b[39mSyntheticFeatures\u001b[39;00m \u001b[39mas\u001b[39;00m \u001b[39msf\u001b[39;00m\n\u001b[0;32m     <a href='vscode-notebook-cell:/d%3A/All_Data/Work/Research/Publications/01.%20In%20Progress/2023/Firuz-Synthetic%20Datasets/synth_data_github-v2%20copy.ipynb#W4sZmlsZQ%3D%3D?line=17'>18</a>\u001b[0m genrator \u001b[39m=\u001b[39m sf\u001b[39m.\u001b[39mFeaturesGenerator()\n\u001b[1;32m---> <a href='vscode-notebook-cell:/d%3A/All_Data/Work/Research/Publications/01.%20In%20Progress/2023/Firuz-Synthetic%20Datasets/synth_data_github-v2%20copy.ipynb#W4sZmlsZQ%3D%3D?line=18'>19</a>\u001b[0m X2, y2 \u001b[39m=\u001b[39m genrator\u001b[39m.\u001b[39;49morand(seed\u001b[39m=\u001b[39;49m\u001b[39m1\u001b[39;49m)\n\u001b[0;32m     <a href='vscode-notebook-cell:/d%3A/All_Data/Work/Research/Publications/01.%20In%20Progress/2023/Firuz-Synthetic%20Datasets/synth_data_github-v2%20copy.ipynb#W4sZmlsZQ%3D%3D?line=19'>20</a>\u001b[0m \u001b[39m#X2, y2 = orand(seed=1)\u001b[39;00m\n\u001b[0;32m     <a href='vscode-notebook-cell:/d%3A/All_Data/Work/Research/Publications/01.%20In%20Progress/2023/Firuz-Synthetic%20Datasets/synth_data_github-v2%20copy.ipynb#W4sZmlsZQ%3D%3D?line=20'>21</a>\u001b[0m \n\u001b[0;32m     <a href='vscode-notebook-cell:/d%3A/All_Data/Work/Research/Publications/01.%20In%20Progress/2023/Firuz-Synthetic%20Datasets/synth_data_github-v2%20copy.ipynb#W4sZmlsZQ%3D%3D?line=21'>22</a>\u001b[0m \u001b[39m#assert X1.all() == X2.all()\u001b[39;00m\n\u001b[0;32m     <a href='vscode-notebook-cell:/d%3A/All_Data/Work/Research/Publications/01.%20In%20Progress/2023/Firuz-Synthetic%20Datasets/synth_data_github-v2%20copy.ipynb#W4sZmlsZQ%3D%3D?line=22'>23</a>\u001b[0m \u001b[39massert\u001b[39;00m X1 \u001b[39m==\u001b[39m X2\n",
      "File \u001b[1;32md:\\All_Data\\Work\\Research\\Publications\\01. In Progress\\2023\\Firuz-Synthetic Datasets\\SyntheticFeatures.py:149\u001b[0m, in \u001b[0;36mFeaturesGenerator.orand\u001b[1;34m(self, n_obs, n_I, seed, csv_file)\u001b[0m\n\u001b[0;32m    146\u001b[0m \u001b[39mself\u001b[39m\u001b[39m.\u001b[39mfeatures \u001b[39m=\u001b[39m np\u001b[39m.\u001b[39mhstack([rr_exp, cor, irlvnt])\n\u001b[0;32m    148\u001b[0m \u001b[39m# Save to file\u001b[39;00m\n\u001b[1;32m--> 149\u001b[0m \u001b[39mself\u001b[39;49m\u001b[39m.\u001b[39;49msaveCSV(csv_file, \u001b[39m\"\u001b[39;49m\u001b[39mORAND\u001b[39;49m\u001b[39m\"\u001b[39;49m, seed, n_obs, \u001b[39mlen\u001b[39;49m(rr_exp[\u001b[39m0\u001b[39;49m]), \u001b[39mlen\u001b[39;49m(cor[\u001b[39m0\u001b[39;49m]), \u001b[39mlen\u001b[39;49m(irlvnt[\u001b[39m0\u001b[39;49m]))\n\u001b[0;32m    151\u001b[0m \u001b[39mreturn\u001b[39;00m \u001b[39mself\u001b[39m\u001b[39m.\u001b[39mfeatures, \u001b[39mself\u001b[39m\u001b[39m.\u001b[39my\n",
      "File \u001b[1;32md:\\All_Data\\Work\\Research\\Publications\\01. In Progress\\2023\\Firuz-Synthetic Datasets\\SyntheticFeatures.py:108\u001b[0m, in \u001b[0;36mFeaturesGenerator.saveCSV\u001b[1;34m(self, csv_file, method, seed, n_obs, relevant, cor, irrelevant)\u001b[0m\n\u001b[0;32m    107\u001b[0m \u001b[39mdef\u001b[39;00m \u001b[39msaveCSV\u001b[39m(\u001b[39mself\u001b[39m, csv_file, method:\u001b[39mstr\u001b[39m, seed, n_obs, relevant, cor, irrelevant):\n\u001b[1;32m--> 108\u001b[0m   \u001b[39massert\u001b[39;00m csv_file\n\u001b[0;32m    109\u001b[0m   \u001b[39m# Save to CSV\u001b[39;00m\n\u001b[0;32m    110\u001b[0m   \u001b[39mwith\u001b[39;00m \u001b[39mopen\u001b[39m(csv_file, \u001b[39m'\u001b[39m\u001b[39mw\u001b[39m\u001b[39m'\u001b[39m) \u001b[39mas\u001b[39;00m f:\n\u001b[0;32m    111\u001b[0m     \u001b[39m#np.savetxt(csv_file, np.column_stack( (features, y) ), delimiter=',', fmt='%d', comments=\"#\")\u001b[39;00m\n",
      "\u001b[1;31mAssertionError\u001b[0m: "
     ]
    }
   ],
   "source": [
    "def orand(n_obs=50,n_I=92, seed=0):\n",
    "  np.random.seed(seed)\n",
    "  red = lnot(gen_3()).astype(int) #redundant variables\n",
    "  rr = np.hstack([gen_3(), red]) #rlvnt & rdnt joined\n",
    "  q=n_obs//8\n",
    "  r=n_obs%8\n",
    "  rr_exp = np.vstack([np.repeat(rr,q, axis=0),rr[:r,:]]) #replicate rr according to n_obs\n",
    "  irlvnt = np.random.randint(2, size=[n_obs,n_I], )\n",
    "  y = land(rr_exp[:,0], \n",
    "           lor(rr_exp[:,1], rr_exp[:,2])).astype(int) #calculate y according to the formula\n",
    "  cor = make_cor(y)\n",
    "  features = np.hstack([rr_exp,cor, irlvnt])\n",
    "  return features, y\n",
    "\n",
    "X1, y1 = orand(seed=1)\n",
    "\n",
    "import SyntheticFeatures as sf\n",
    "genrator = sf.FeaturesGenerator()\n",
    "X2, y2 = genrator.orand(seed=1)\n",
    "#X2, y2 = orand(seed=1)\n",
    "\n",
    "#assert X1.all() == X2.all()\n",
    "assert X1 == X2\n",
    "\n",
    "print(X1, y1)\n",
    "print('='*20)\n",
    "print(X2, y2)\n",
    "\n"
   ]
  },
  {
   "cell_type": "code",
   "execution_count": null,
   "metadata": {},
   "outputs": [],
   "source": [
    "#res = np.concatenate( (X, [y.transpose()]), axis=1)\n",
    "res = np.column_stack( (X, y) )\n",
    "print(res, y)\n",
    "\n",
    "\n",
    "\n",
    "import numpy as np\n",
    "\n",
    "# Create a 2D array\n",
    "a = np.array([[1, 2, 3], [4, 5, 6], [7, 8, 9]])\n",
    "\n",
    "# Extract the last column using take()\n",
    "last_column = np.take(a, [-1], axis=1)\n",
    "\n",
    "print(last_column)\n",
    "print(last_column[:, -1] )"
   ]
  },
  {
   "cell_type": "markdown",
   "metadata": {
    "id": "-2f7NP7PgBu0"
   },
   "source": [
    "### ANDOR"
   ]
  },
  {
   "cell_type": "code",
   "execution_count": 22,
   "metadata": {
    "executionInfo": {
     "elapsed": 964,
     "status": "ok",
     "timestamp": 1665584898323,
     "user": {
      "displayName": "F K",
      "userId": "13365684069309883962"
     },
     "user_tz": -240
    },
    "id": "A6HfxRNaYqs1"
   },
   "outputs": [
    {
     "name": "stdout",
     "output_type": "stream",
     "text": [
      "[[0 0 0 ... 1 1 0]\n",
      " [0 0 0 ... 0 0 0]\n",
      " [0 0 0 ... 0 1 1]\n",
      " ...\n",
      " [1 1 1 ... 0 0 0]\n",
      " [0 0 0 ... 1 1 1]\n",
      " [0 0 1 ... 0 1 1]] [0 0 0 0 0 0 0 0 0 0 0 0 0 0 0 0 0 0 1 1 1 1 1 1 0 0 0 1 1 1 0 0 0 1 1 1 0\n",
      " 0 0 1 1 1 1 1 1 1 1 1 0 0]\n"
     ]
    }
   ],
   "source": [
    "# generate a list of all possible combinations of 3-bits\n",
    "def gen_4():\n",
    "  rlvnt_0 = gen_3()\n",
    "  for seq in rlvnt_0:\n",
    "    seq.append(0)\n",
    "\n",
    "  rlvnt_1 = gen_3()\n",
    "  for seq in rlvnt_1:\n",
    "    seq.append(1)\n",
    "\n",
    "  return rlvnt_0 + rlvnt_1\n",
    "\n",
    "\n",
    "def andor(n_obs=50,n_I=90, seed=0):\n",
    "  np.random.seed(seed)\n",
    "  red = lnot(gen_4()).astype(int)\n",
    "  rr = np.hstack([gen_4(), red])\n",
    "  q=n_obs//16\n",
    "  r=n_obs%16\n",
    "  rr_exp = np.vstack([np.repeat(rr,q, axis=0),rr[:r,:]])\n",
    "  irlvnt = np.random.randint(2, size=[n_obs,n_I])\n",
    "  y = lor(land(rr_exp[:,0], rr_exp[:,1]), \n",
    "          land(rr_exp[:,2], rr_exp[:,3])).astype(int)\n",
    "  cor = make_cor(y)\n",
    "  features = np.hstack([rr_exp, cor, irlvnt])\n",
    "  return features, y\n",
    "\n",
    "X, y = andor()\n",
    "\n",
    "print(X, y)"
   ]
  },
  {
   "cell_type": "markdown",
   "metadata": {
    "id": "YDq6k8xWgBu1"
   },
   "source": [
    "### ADDER"
   ]
  },
  {
   "cell_type": "code",
   "execution_count": null,
   "metadata": {
    "executionInfo": {
     "elapsed": 632,
     "status": "ok",
     "timestamp": 1665588058085,
     "user": {
      "displayName": "F K",
      "userId": "13365684069309883962"
     },
     "user_tz": -240
    },
    "id": "t5xiWVOPxwbl"
   },
   "outputs": [],
   "source": [
    "# make 2 correlated features when n_class => 2\n",
    "# this is more general than make_cor which works only when n_class=2\n",
    "# works by adding 1 to the y value and modding \n",
    "# flips 30% of y values\n",
    "\n",
    "def make_cor_adv(y, n_class=4):\n",
    "  n_ind = int(0.3*len(y))\n",
    "  cor_vars = []\n",
    "  for i in range(2):\n",
    "    random.seed(0)\n",
    "    np.random.seed(0)\n",
    "    cor_i = y.copy()\n",
    "    ind = random.sample(range(len(y)), n_ind)\n",
    "    adjust = np.random.randint(n_class, size=n_ind)\n",
    "    cor_i[ind] = (cor_i[ind]+adjust)%n_class\n",
    "    cor_vars.append(cor_i)\n",
    "  return np.array(cor_vars).transpose()"
   ]
  },
  {
   "cell_type": "code",
   "execution_count": null,
   "metadata": {
    "executionInfo": {
     "elapsed": 1,
     "status": "ok",
     "timestamp": 1665588574666,
     "user": {
      "displayName": "F K",
      "userId": "13365684069309883962"
     },
     "user_tz": -240
    },
    "id": "dBq6hQCwGRS9"
   },
   "outputs": [],
   "source": [
    "def adder(n_obs=50,n_I=92, seed=0):\n",
    "  np.random.seed(seed)\n",
    "  red = lnot(gen_3()).astype(int)\n",
    "  rr = np.hstack([gen_3(), red])\n",
    "  q=n_obs//8\n",
    "  r=n_obs%8\n",
    "  rr_exp = np.vstack([np.repeat(rr,q, axis=0),rr[:r,:]])\n",
    "  irlvnt = np.random.randint(2, size=[n_obs,n_I])\n",
    "  y1 = lxor(lxor(rr_exp[:,0], rr_exp[:,1]), \n",
    "            rr_exp[:,2]).astype(int)\n",
    "  y2 = lor(land(rr_exp[:,0], rr_exp[:,1]), \n",
    "           land(rr_exp[:,2], lxor(rr_exp[:,0], rr_exp[:,1]))).astype(int)\n",
    "  y = [y1[j] + 2*y2[j] for j in range(len(y1))]\n",
    "  cor = make_cor_adv(np.array(y))\n",
    "  features = np.hstack([rr_exp, cor, irlvnt])\n",
    "  return features, y\n",
    "\n",
    "X, y = adder(n_obs=50,n_I=92, seed=0)"
   ]
  },
  {
   "cell_type": "markdown",
   "metadata": {
    "id": "GdKx2u_DgBu3"
   },
   "source": [
    "### LED"
   ]
  },
  {
   "cell_type": "code",
   "execution_count": null,
   "metadata": {
    "id": "iVGNEiD4gBu3"
   },
   "outputs": [],
   "source": [
    "# import the table showing which LED segments light up for each character\n",
    "df = pd.read_csv('16_segment_truth_table2.csv')\n",
    "df = df.fillna(0)\n",
    "df.index = df.iloc[:,0].values\n",
    "df.drop(columns='char', inplace=True)\n",
    "df = df.astype(int)\n",
    "\n",
    "def led(df, n_obs=180,n_I=66, seed=0):\n",
    "    np.random.seed(seed)\n",
    "    rlvnt = df.values\n",
    "    red = np.logical_not(rlvnt)\n",
    "    rr = np.hstack([rlvnt, red])\n",
    "    d = rlvnt.shape[0]\n",
    "    q=n_obs//d\n",
    "    r=n_obs%d\n",
    "    rr_exp = np.vstack([np.repeat(rr, q, axis=0), rr[:r,:]])\n",
    "    irlvnt = np.random.randint(2, size=[n_obs,n_I])\n",
    "    y = np.array(range(36))\n",
    "    y = np.hstack([np.repeat(y, q), y[:r]])\n",
    "    cor = make_cor_adv(y, n_class=36)\n",
    "    features = np.hstack([rr_exp, cor, irlvnt])\n",
    "    return features, y\n",
    "    \n",
    "    \n",
    "X, y = led(n_obs=180,n_I=90, df=df)"
   ]
  },
  {
   "cell_type": "markdown",
   "metadata": {
    "id": "8nz8Y3afgBu4"
   },
   "source": [
    "### PRC"
   ]
  },
  {
   "cell_type": "code",
   "execution_count": null,
   "metadata": {
    "id": "He8Lp_AcgBu4"
   },
   "outputs": [],
   "source": [
    "def r_total(r_array):\n",
    "  r_sum = 0\n",
    "  for k in range(5):\n",
    "    rk_sum = 1\n",
    "    for j in range(5):\n",
    "      if j!=k:\n",
    "        rk_sum = rk_sum*r_array[j]\n",
    "    r_sum = r_sum + rk_sum\n",
    "  return np.product(r_array)/r_sum\n",
    "\n",
    "\n",
    "\n",
    "def prc(n_obs,n_I, seed):\n",
    "  np.random.seed(seed)\n",
    "  rlvnt = 3 + np.random.randn(n_obs,5)/3\n",
    "  red = 2*rlvnt+3   #redundant features are linear transform of relevant variables\n",
    "  rr = np.hstack([rlvnt, red])\n",
    "\n",
    "  irlvnt = 3 + np.random.randn(n_obs,n_I//2)/3\n",
    "  irlvnt = np.hstack([irlvnt, 3+np.random.rand(n_obs,n_I//2)])\n",
    "  \n",
    "  features = np.hstack([rr, irlvnt])\n",
    "  y = [r_total(features[j,:5]) for j in range(features.shape[0])]\n",
    "  return features, y\n",
    "\n",
    "X, y = prc(50, 90, 0)"
   ]
  },
  {
   "cell_type": "code",
   "execution_count": null,
   "metadata": {},
   "outputs": [],
   "source": []
  }
 ],
 "metadata": {
  "colab": {
   "collapsed_sections": [
    "-2f7NP7PgBu0",
    "GdKx2u_DgBu3",
    "8nz8Y3afgBu4",
    "TwY8OGEEuw7i"
   ],
   "provenance": []
  },
  "kernelspec": {
   "display_name": "base",
   "language": "python",
   "name": "python3"
  },
  "language_info": {
   "codemirror_mode": {
    "name": "ipython",
    "version": 3
   },
   "file_extension": ".py",
   "mimetype": "text/x-python",
   "name": "python",
   "nbconvert_exporter": "python",
   "pygments_lexer": "ipython3",
   "version": "3.9.12"
  },
  "vscode": {
   "interpreter": {
    "hash": "a34a061c4e68b562d26bf0a13aa8a117e6eed362efbd76301742f9fa877c7f11"
   }
  }
 },
 "nbformat": 4,
 "nbformat_minor": 1
}
