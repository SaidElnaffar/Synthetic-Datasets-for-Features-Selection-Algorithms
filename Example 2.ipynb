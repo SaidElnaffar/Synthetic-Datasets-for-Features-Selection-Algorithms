{
 "cells": [
  {
   "cell_type": "code",
   "execution_count": null,
   "id": "3d88afb2",
   "metadata": {},
   "outputs": [],
   "source": [
    "# Basic usage\n",
    "\n",
    "import numpy as np\n",
    "from XyGen import XyGen\n",
    "\n",
    "'''\n",
    "seed: random seed for generating irrelevant variables \n",
    "n_obs: number of instances\n",
    "n_I: number of irrelevant features\n",
    "csv_file: name of the csv file that stores the (X,y) data (optional)\n",
    "We recommend to keep the default values for reproducibility.\n",
    "'''\n",
    "\n",
    "data_generator = XyGen()\n",
    "X1, y1 = data_generator.gen_ORAND(n_obs=50, n_I=92, seed=0)\n",
    "X2, y2 = data_generator.gen_LED(csv_file='led.csv')"
   ]
  },
  {
   "cell_type": "code",
   "execution_count": null,
   "id": "877e6f65",
   "metadata": {},
   "outputs": [],
   "source": [
    "# Feature selection with XyGen\n",
    "\n",
    "import matplotlib.pyplot as plt\n",
    "from sklearn.feature_selection import SelectKBest\n",
    "from sklearn.feature_selection import chi2\n",
    "\n",
    "# Generate ORAND with different seeds which changes the irrelevant variables but keeps the relevant variables fixed\n",
    "# Calculate the total chi2-score for each feature\n",
    "data_generator = XyGen()\n",
    "best_scores = []\n",
    "for i in range(10):\n",
    "    X, y = data_generator.gen_ORAND(n_obs=30, seed=i)\n",
    "    sel_kbest = SelectKBest(chi2, k=1)\n",
    "    sel_kbest = sel_kbest.fit(X, y)\n",
    "    best_scores.append(sel_kbest.scores_)\n",
    "\n",
    "#Plot the results\n",
    "plt.figure(figsize=(20,5))\n",
    "mean_scores = np.array(best_scores).mean(axis=0)\n",
    "sd_scores = np.array(best_scores).std(axis=0)\n",
    "plt.bar(range(1, X.shape[1]+1),mean_scores, yerr=sd_scores, ecolor='orangered', \n",
    "        color=4*[\"blue\"]+4*[\"royalblue\"]+2*[\"forestgreen\"]+90*[\"slategray\"],\n",
    "        error_kw=dict(lw=1))\n",
    "plt.xticks([1, 10, 20, 30, 40, 50, 60, 70, 80, 90, 100], size=14)\n",
    "plt.yticks(size=14)\n",
    "plt.xlabel('features', size=15)\n",
    "plt.ylabel(r'$\\chi^2$', size=15)\n",
    "plt.title('Univariate')\n",
    "\n",
    "colors = {'rlvnt':'blue', 'rdnt':'royalblue', 'corr':'forestgreen', 'irrlvnt':'slategray'}         \n",
    "labels = list(colors.keys())\n",
    "handles = [plt.Rectangle((0,0),1,1, color=colors[label]) for label in labels]\n",
    "plt.legend(handles, labels)\n",
    "plt.show()"
   ]
  }
 ],
 "metadata": {
  "kernelspec": {
   "display_name": "Python 3 (ipykernel)",
   "language": "python",
   "name": "python3"
  },
  "language_info": {
   "codemirror_mode": {
    "name": "ipython",
    "version": 3
   },
   "file_extension": ".py",
   "mimetype": "text/x-python",
   "name": "python",
   "nbconvert_exporter": "python",
   "pygments_lexer": "ipython3",
   "version": "3.10.6"
  }
 },
 "nbformat": 4,
 "nbformat_minor": 5
}
