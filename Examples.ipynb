{
 "cells": [
  {
   "cell_type": "code",
   "execution_count": 6,
   "metadata": {},
   "outputs": [],
   "source": [
    "from XyGenerator import XyGenerator"
   ]
  },
  {
   "attachments": {},
   "cell_type": "markdown",
   "metadata": {},
   "source": [
    "Creating new datasets using different methods and saving them automatically to CSV files."
   ]
  },
  {
   "cell_type": "code",
   "execution_count": 7,
   "metadata": {},
   "outputs": [
    {
     "name": "stdout",
     "output_type": "stream",
     "text": [
      "Features:  [[0 0 0 ... 0 0 1]\n",
      " [0 0 0 ... 1 1 1]\n",
      " [0 0 0 ... 1 1 1]\n",
      " ...\n",
      " [1 1 1 ... 1 1 1]\n",
      " [0 0 0 ... 1 0 0]\n",
      " [0 0 1 ... 0 1 0]]\n",
      "Target:  [0 0 0 0 0 0 0 0 0 0 0 0 0 0 0 0 0 0 0 0 0 0 0 0 0 0 0 0 0 0 1 1 1 1 1 1 1\n",
      " 1 1 1 1 1 1 1 1 1 1 1 0 0]\n",
      "Features:  [[0 0 0 ... 0 0 0]\n",
      " [0 0 0 ... 1 1 0]\n",
      " [0 0 0 ... 1 0 1]\n",
      " ...\n",
      " [1 1 1 ... 0 1 0]\n",
      " [0 0 0 ... 0 1 1]\n",
      " [0 0 1 ... 1 0 1]]\n",
      "Target:  [0 0 0 0 0 0 0 0 0 0 0 0 0 0 0 0 0 0 1 1 1 1 1 1 0 0 0 1 1 1 0 0 0 1 1 1 0\n",
      " 0 0 1 1 1 1 1 1 1 1 1 0 0]\n",
      "Features:  [[0 0 0 ... 1 1 0]\n",
      " [0 0 0 ... 0 1 0]\n",
      " [0 0 0 ... 1 1 1]\n",
      " ...\n",
      " [1 1 1 ... 1 1 1]\n",
      " [0 0 0 ... 1 0 0]\n",
      " [0 0 1 ... 0 0 0]]\n",
      "Target:  [0, 0, 0, 0, 0, 0, 1, 1, 1, 1, 1, 1, 1, 1, 1, 1, 1, 1, 2, 2, 2, 2, 2, 2, 1, 1, 1, 1, 1, 1, 2, 2, 2, 2, 2, 2, 2, 2, 2, 2, 2, 2, 3, 3, 3, 3, 3, 3, 0, 1]\n",
      "Features:  [[1 1 1 ... 0 0 0]\n",
      " [1 1 1 ... 0 0 1]\n",
      " [1 1 1 ... 0 0 1]\n",
      " ...\n",
      " [1 1 0 ... 0 0 0]\n",
      " [1 1 0 ... 0 1 1]\n",
      " [1 1 0 ... 0 1 0]]\n",
      "Target:  [ 0  0  0  0  0  1  1  1  1  1  2  2  2  2  2  3  3  3  3  3  4  4  4  4\n",
      "  4  5  5  5  5  5  6  6  6  6  6  7  7  7  7  7  8  8  8  8  8  9  9  9\n",
      "  9  9 10 10 10 10 10 11 11 11 11 11 12 12 12 12 12 13 13 13 13 13 14 14\n",
      " 14 14 14 15 15 15 15 15 16 16 16 16 16 17 17 17 17 17 18 18 18 18 18 19\n",
      " 19 19 19 19 20 20 20 20 20 21 21 21 21 21 22 22 22 22 22 23 23 23 23 23\n",
      " 24 24 24 24 24 25 25 25 25 25 26 26 26 26 26 27 27 27 27 27 28 28 28 28\n",
      " 28 29 29 29 29 29 30 30 30 30 30 31 31 31 31 31 32 32 32 32 32 33 33 33\n",
      " 33 33 34 34 34 34 34 35 35 35 35 35]\n",
      "Features:  [[2.41465088 3.60554641 3.30792608 ... 3.25930089 3.0353866  3.2524303 ]\n",
      " [3.34424514 2.93310384 3.11967936 ... 3.8791552  3.89037898 3.42803245]\n",
      " [3.21728661 3.03911947 3.06741054 ... 3.71361605 3.5441894  3.79089975]\n",
      " ...\n",
      " [2.8045184  2.89325565 3.29779638 ... 3.95752567 3.64492363 3.24561521]\n",
      " [3.52968486 2.82191252 2.20873998 ... 3.08542093 3.71344845 3.48730164]\n",
      " [2.82171815 3.3105473  2.78904294 ... 3.31404229 3.62531832 3.65372703]]\n",
      "Target:  [0.6030912748973433, 0.6251601478287404, 0.6036249650470057, 0.5890497379775541, 0.5454956158957578, 0.658406986553843, 0.5815311712873675, 0.604406530791828, 0.5899148862962105, 0.6003747095977172, 0.6002807885792445, 0.5883743798665633, 0.6412529799215098, 0.527511132649337, 0.6077966888009797, 0.5879672668262679, 0.6199709083938149, 0.5627862544877119, 0.6678288556167459, 0.5341199834263601, 0.5465152337146175, 0.6134483701563312, 0.49131566623468864, 0.6061816966573904, 0.5795167131154673, 0.6086210660407095, 0.6001491557150249, 0.5630620419648547, 0.5717344845081234, 0.5561710930727243, 0.5964329862149351, 0.6154639130756085, 0.5525588481677964, 0.6022976636681695, 0.5925962852864185, 0.5981638305756146, 0.6000096959884206, 0.5989779529751007, 0.5544297799701107, 0.6147622286549874, 0.5757812368936256, 0.627408630915276, 0.5073228759115064, 0.6038150785386677, 0.5998309181963711, 0.5975151573986861, 0.5872727868959704, 0.5446141696076696, 0.5563169848141117, 0.6035627769537306]\n"
     ]
    }
   ],
   "source": [
    "'''\n",
    "Creating new datasets using different methods and saving them automatically to CSV files.\n",
    "'''\n",
    "features_generator = XyGenerator()\n",
    "\n",
    "X, y = features_generator.gen_dataset_using_ORAND(csv_file='orand.csv')\n",
    "print(\"Features: \", X)\n",
    "print(\"Target: \", y)\n",
    "\n",
    "\n",
    "\n",
    "X, y = features_generator.gen_dataset_using_ِANDOR(csv_file='andor.csv')\n",
    "print(\"Features: \", X)\n",
    "print(\"Target: \", y)\n",
    "\n",
    "\n",
    "X, y = features_generator.gen_dataset_using_ADDER(csv_file='adder.csv')\n",
    "print(\"Features: \", X)\n",
    "print(\"Target: \", y)\n",
    "\n",
    "X, y = features_generator.gen_dataset_using_LED(n_obs=180,n_I=90, csv_file='led.csv')\n",
    "print(\"Features: \", X)\n",
    "print(\"Target: \", y)\n",
    "\n",
    "X, y = features_generator.gen_dataset_using_PRC(50, 90, csv_file='prc.csv')\n",
    "print(\"Features: \", X)\n",
    "print(\"Target: \", y)\n",
    "    \n"
   ]
  },
  {
   "attachments": {},
   "cell_type": "markdown",
   "metadata": {},
   "source": [
    "Loading a previously generated and saved dataset from a CSV file."
   ]
  },
  {
   "cell_type": "code",
   "execution_count": 8,
   "metadata": {},
   "outputs": [
    {
     "name": "stdout",
     "output_type": "stream",
     "text": [
      "Features:  [[0. 0. 0. ... 0. 0. 1.]\n",
      " [0. 0. 0. ... 1. 1. 1.]\n",
      " [0. 0. 0. ... 1. 1. 1.]\n",
      " ...\n",
      " [1. 1. 1. ... 1. 1. 1.]\n",
      " [0. 0. 0. ... 1. 0. 0.]\n",
      " [0. 0. 1. ... 0. 1. 0.]]\n",
      "Target:  [0. 0. 0. 0. 0. 0. 0. 0. 0. 0. 0. 0. 0. 0. 0. 0. 0. 0. 0. 0. 0. 0. 0. 0.\n",
      " 0. 0. 0. 0. 0. 0. 1. 1. 1. 1. 1. 1. 1. 1. 1. 1. 1. 1. 1. 1. 1. 1. 1. 1.\n",
      " 0. 0.]\n"
     ]
    }
   ],
   "source": [
    "\n",
    "'''\n",
    "    Loading a previously generated and saved dataset from a CSV file.            \n",
    "'''\n",
    "features_generator = XyGenerator()\n",
    "X, y = features_generator.loadCSV('orand.csv')\n",
    "\n",
    "print(\"Features: \", X)\n",
    "print(\"Target: \", y)\n"
   ]
  }
 ],
 "metadata": {
  "kernelspec": {
   "display_name": "base",
   "language": "python",
   "name": "python3"
  },
  "language_info": {
   "codemirror_mode": {
    "name": "ipython",
    "version": 3
   },
   "file_extension": ".py",
   "mimetype": "text/x-python",
   "name": "python",
   "nbconvert_exporter": "python",
   "pygments_lexer": "ipython3",
   "version": "3.9.12"
  },
  "orig_nbformat": 4,
  "vscode": {
   "interpreter": {
    "hash": "a34a061c4e68b562d26bf0a13aa8a117e6eed362efbd76301742f9fa877c7f11"
   }
  }
 },
 "nbformat": 4,
 "nbformat_minor": 2
}
