{
 "cells": [
  {
   "cell_type": "markdown",
   "metadata": {},
   "source": [
    "# Synthetic Data"
   ]
  }
 ],
 "metadata": {
  "colab": {
   "collapsed_sections": [
    "-2f7NP7PgBu0",
    "GdKx2u_DgBu3",
    "8nz8Y3afgBu4",
    "TwY8OGEEuw7i"
   ],
   "provenance": []
  },
  "kernelspec": {
   "display_name": "base",
   "language": "python",
   "name": "python3"
  },
  "language_info": {
   "codemirror_mode": {
    "name": "ipython",
    "version": 3
   },
   "file_extension": ".py",
   "mimetype": "text/x-python",
   "name": "python",
   "nbconvert_exporter": "python",
   "pygments_lexer": "ipython3",
   "version": "3.9.12 (main, Apr  4 2022, 05:22:27) [MSC v.1916 64 bit (AMD64)]"
  },
  "vscode": {
   "interpreter": {
    "hash": "a34a061c4e68b562d26bf0a13aa8a117e6eed362efbd76301742f9fa877c7f11"
   }
  }
 },
 "nbformat": 4,
 "nbformat_minor": 1
}
