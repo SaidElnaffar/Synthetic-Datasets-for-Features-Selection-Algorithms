{
 "cells": [
  {
   "cell_type": "markdown",
   "metadata": {},
   "source": [
    "# Synthetic Data"
   ]
  },
  {
   "cell_type": "code",
   "execution_count": 25,
   "metadata": {
    "executionInfo": {
     "elapsed": 1,
     "status": "ok",
     "timestamp": 1665584734108,
     "user": {
      "displayName": "F K",
      "userId": "13365684069309883962"
     },
     "user_tz": -240
    },
    "id": "NOS8JMYtEDub"
   },
   "outputs": [],
   "source": [
    "import numpy as np\n",
    "from numpy import logical_or as lor\n",
    "from numpy import logical_and as land\n",
    "from numpy import logical_not as lnot\n",
    "from numpy import logical_xor as lxor\n",
    "import random\n",
    "import pandas as pd\n",
    "import matplotlib.pyplot as plt"
   ]
  },
  {
   "cell_type": "code",
   "execution_count": 26,
   "metadata": {},
   "outputs": [],
   "source": [
    "# generate a list of all possible combinations of 3-bits\n",
    "def gen_3(): \n",
    "  rlvnt = []\n",
    "  for i in [0,1]:\n",
    "    for j in [0,1]:\n",
    "      for k in [0,1]:\n",
    "        rlvnt.append([i,j,k])\n",
    "  return rlvnt\n",
    "\n",
    "# create 2 correlated features in case of binary target (y) \n",
    "# by randomly fliping 30% of the values of y  \n",
    "\n",
    "def make_cor(y):\n",
    "  random.seed(0)\n",
    "  cor_vars = []\n",
    "  for i in range(2):\n",
    "    cor_i = y.copy()\n",
    "    ind = random.sample(range(len(y)), int(0.3*len(y)))\n",
    "    cor_i[ind] = lnot(cor_i[ind])\n",
    "    cor_vars.append(cor_i)\n",
    "  return np.array(cor_vars).transpose()"
   ]
  },
  {
   "cell_type": "markdown",
   "metadata": {
    "id": "GP7yqnjXgBuv"
   },
   "source": [
    "### ORAND"
   ]
  },
  {
   "cell_type": "code",
   "execution_count": 27,
   "metadata": {
    "executionInfo": {
     "elapsed": 399,
     "status": "ok",
     "timestamp": 1665586916184,
     "user": {
      "displayName": "F K",
      "userId": "13365684069309883962"
     },
     "user_tz": -240
    },
    "id": "xZ2khlf5I4KJ"
   },
   "outputs": [
    {
     "data": {
      "text/plain": [
       "(array([[0, 0, 0, ..., 1, 0, 0],\n",
       "        [0, 0, 0, ..., 0, 1, 0],\n",
       "        [0, 0, 0, ..., 0, 0, 1],\n",
       "        ...,\n",
       "        [1, 1, 1, ..., 0, 1, 1],\n",
       "        [0, 0, 0, ..., 1, 1, 0],\n",
       "        [0, 0, 1, ..., 1, 0, 1]]),\n",
       " array([0, 0, 0, 0, 0, 0, 0, 0, 0, 0, 0, 0, 0, 0, 0, 0, 0, 0, 0, 0, 0, 0,\n",
       "        0, 0, 0, 0, 0, 0, 0, 0, 1, 1, 1, 1, 1, 1, 1, 1, 1, 1, 1, 1, 1, 1,\n",
       "        1, 1, 1, 1, 0, 0]))"
      ]
     },
     "execution_count": 27,
     "metadata": {},
     "output_type": "execute_result"
    }
   ],
   "source": [
    "def orand(n_obs=50,n_I=92, seed=0):\n",
    "  np.random.seed(seed)\n",
    "  red = lnot(gen_3()).astype(int) #redundant variables\n",
    "  rr = np.hstack([gen_3(), red]) #rlvnt & rdnt joined\n",
    "  q=n_obs//8\n",
    "  r=n_obs%8\n",
    "  rr_exp = np.vstack([np.repeat(rr,q, axis=0),rr[:r,:]]) #replicate rr according to n_obs\n",
    "  irlvnt = np.random.randint(2, size=[n_obs,n_I], )\n",
    "  y = land(rr_exp[:,0], \n",
    "           lor(rr_exp[:,1], rr_exp[:,2])).astype(int) #calculate y according to the formula\n",
    "  cor = make_cor(y)\n",
    "  features = np.hstack([rr_exp,cor, irlvnt])\n",
    "  return features, y\n",
    "\n",
    "(X, y) = orand(seed=1)\n",
    "\n",
    "X, y"
   ]
  },
  {
   "cell_type": "markdown",
   "metadata": {
    "id": "-2f7NP7PgBu0"
   },
   "source": [
    "### ANDOR"
   ]
  },
  {
   "cell_type": "code",
   "execution_count": 28,
   "metadata": {
    "executionInfo": {
     "elapsed": 964,
     "status": "ok",
     "timestamp": 1665584898323,
     "user": {
      "displayName": "F K",
      "userId": "13365684069309883962"
     },
     "user_tz": -240
    },
    "id": "A6HfxRNaYqs1"
   },
   "outputs": [
    {
     "data": {
      "text/plain": [
       "(array([[0, 0, 0, ..., 1, 1, 0],\n",
       "        [0, 0, 0, ..., 0, 0, 0],\n",
       "        [0, 0, 0, ..., 0, 1, 1],\n",
       "        ...,\n",
       "        [1, 1, 1, ..., 0, 0, 0],\n",
       "        [0, 0, 0, ..., 1, 1, 1],\n",
       "        [0, 0, 1, ..., 0, 1, 1]]),\n",
       " array([0, 0, 0, 0, 0, 0, 0, 0, 0, 0, 0, 0, 0, 0, 0, 0, 0, 0, 1, 1, 1, 1,\n",
       "        1, 1, 0, 0, 0, 1, 1, 1, 0, 0, 0, 1, 1, 1, 0, 0, 0, 1, 1, 1, 1, 1,\n",
       "        1, 1, 1, 1, 0, 0]))"
      ]
     },
     "execution_count": 28,
     "metadata": {},
     "output_type": "execute_result"
    }
   ],
   "source": [
    "# generate a list of all possible combinations of 3-bits\n",
    "def gen_4():\n",
    "  rlvnt_0 = gen_3()\n",
    "  for seq in rlvnt_0:\n",
    "    seq.append(0)\n",
    "\n",
    "  rlvnt_1 = gen_3()\n",
    "  for seq in rlvnt_1:\n",
    "    seq.append(1)\n",
    "\n",
    "  return rlvnt_0 + rlvnt_1\n",
    "\n",
    "\n",
    "def andor(n_obs=50,n_I=90, seed=0):\n",
    "  np.random.seed(seed)\n",
    "  red = lnot(gen_4()).astype(int)\n",
    "  rr = np.hstack([gen_4(), red])\n",
    "  q=n_obs//16\n",
    "  r=n_obs%16\n",
    "  rr_exp = np.vstack([np.repeat(rr,q, axis=0),rr[:r,:]])\n",
    "  irlvnt = np.random.randint(2, size=[n_obs,n_I])\n",
    "  y = lor(land(rr_exp[:,0], rr_exp[:,1]), \n",
    "          land(rr_exp[:,2], rr_exp[:,3])).astype(int)\n",
    "  cor = make_cor(y)\n",
    "  features = np.hstack([rr_exp, cor, irlvnt])\n",
    "  return features, y\n",
    "\n",
    "X, y = andor()\n",
    "\n",
    "\n",
    "X, y"
   ]
  },
  {
   "cell_type": "markdown",
   "metadata": {
    "id": "YDq6k8xWgBu1"
   },
   "source": [
    "### ADDER"
   ]
  },
  {
   "cell_type": "code",
   "execution_count": 29,
   "metadata": {
    "executionInfo": {
     "elapsed": 632,
     "status": "ok",
     "timestamp": 1665588058085,
     "user": {
      "displayName": "F K",
      "userId": "13365684069309883962"
     },
     "user_tz": -240
    },
    "id": "t5xiWVOPxwbl"
   },
   "outputs": [],
   "source": [
    "# make 2 correlated features when n_class => 2\n",
    "# this is more general than make_cor which works only when n_class=2\n",
    "# works by adding 1 to the y value and modding \n",
    "# flips 30% of y values\n",
    "\n",
    "def make_cor_adv(y, n_class=4):\n",
    "  n_ind = int(0.3*len(y))\n",
    "  cor_vars = []\n",
    "  for i in range(2):\n",
    "    random.seed(0)\n",
    "    np.random.seed(0)\n",
    "    cor_i = y.copy()\n",
    "    ind = random.sample(range(len(y)), n_ind)\n",
    "    adjust = np.random.randint(n_class, size=n_ind)\n",
    "    cor_i[ind] = (cor_i[ind]+adjust)%n_class\n",
    "    cor_vars.append(cor_i)\n",
    "  return np.array(cor_vars).transpose()"
   ]
  },
  {
   "cell_type": "code",
   "execution_count": 30,
   "metadata": {
    "executionInfo": {
     "elapsed": 1,
     "status": "ok",
     "timestamp": 1665588574666,
     "user": {
      "displayName": "F K",
      "userId": "13365684069309883962"
     },
     "user_tz": -240
    },
    "id": "dBq6hQCwGRS9"
   },
   "outputs": [
    {
     "data": {
      "text/plain": [
       "(array([[0, 0, 0, ..., 0, 1, 1],\n",
       "        [0, 0, 0, ..., 0, 1, 0],\n",
       "        [0, 0, 0, ..., 0, 0, 0],\n",
       "        ...,\n",
       "        [1, 1, 1, ..., 1, 0, 1],\n",
       "        [0, 0, 0, ..., 0, 1, 1],\n",
       "        [0, 0, 1, ..., 0, 0, 0]]),\n",
       " [0,\n",
       "  0,\n",
       "  0,\n",
       "  0,\n",
       "  0,\n",
       "  0,\n",
       "  1,\n",
       "  1,\n",
       "  1,\n",
       "  1,\n",
       "  1,\n",
       "  1,\n",
       "  1,\n",
       "  1,\n",
       "  1,\n",
       "  1,\n",
       "  1,\n",
       "  1,\n",
       "  2,\n",
       "  2,\n",
       "  2,\n",
       "  2,\n",
       "  2,\n",
       "  2,\n",
       "  1,\n",
       "  1,\n",
       "  1,\n",
       "  1,\n",
       "  1,\n",
       "  1,\n",
       "  2,\n",
       "  2,\n",
       "  2,\n",
       "  2,\n",
       "  2,\n",
       "  2,\n",
       "  2,\n",
       "  2,\n",
       "  2,\n",
       "  2,\n",
       "  2,\n",
       "  2,\n",
       "  3,\n",
       "  3,\n",
       "  3,\n",
       "  3,\n",
       "  3,\n",
       "  3,\n",
       "  0,\n",
       "  1])"
      ]
     },
     "execution_count": 30,
     "metadata": {},
     "output_type": "execute_result"
    }
   ],
   "source": [
    "def adder(n_obs=50,n_I=92, seed=0):\n",
    "  np.random.seed(seed)\n",
    "  red = lnot(gen_3()).astype(int)\n",
    "  rr = np.hstack([gen_3(), red])\n",
    "  q=n_obs//8\n",
    "  r=n_obs%8\n",
    "  rr_exp = np.vstack([np.repeat(rr,q, axis=0),rr[:r,:]])\n",
    "  irlvnt = np.random.randint(2, size=[n_obs,n_I])\n",
    "  y1 = lxor(lxor(rr_exp[:,0], rr_exp[:,1]), \n",
    "            rr_exp[:,2]).astype(int)\n",
    "  y2 = lor(land(rr_exp[:,0], rr_exp[:,1]), \n",
    "           land(rr_exp[:,2], lxor(rr_exp[:,0], rr_exp[:,1]))).astype(int)\n",
    "  y = [y1[j] + 2*y2[j] for j in range(len(y1))]\n",
    "  cor = make_cor_adv(np.array(y))\n",
    "  features = np.hstack([rr_exp, cor, irlvnt])\n",
    "  return features, y\n",
    "\n",
    "X, y = adder(n_obs=50,n_I=92, seed=0)\n",
    "\n",
    "\n",
    "X, y"
   ]
  },
  {
   "cell_type": "markdown",
   "metadata": {
    "id": "GdKx2u_DgBu3"
   },
   "source": [
    "### LED"
   ]
  },
  {
   "cell_type": "code",
   "execution_count": 31,
   "metadata": {
    "id": "iVGNEiD4gBu3"
   },
   "outputs": [
    {
     "data": {
      "text/plain": [
       "(array([[1, 1, 1, ..., 1, 1, 0],\n",
       "        [1, 1, 1, ..., 0, 0, 0],\n",
       "        [1, 1, 1, ..., 0, 1, 1],\n",
       "        ...,\n",
       "        [1, 1, 0, ..., 0, 0, 0],\n",
       "        [1, 1, 0, ..., 1, 1, 1],\n",
       "        [1, 1, 0, ..., 1, 1, 1]]),\n",
       " array([ 0,  0,  0,  0,  0,  1,  1,  1,  1,  1,  2,  2,  2,  2,  2,  3,  3,\n",
       "         3,  3,  3,  4,  4,  4,  4,  4,  5,  5,  5,  5,  5,  6,  6,  6,  6,\n",
       "         6,  7,  7,  7,  7,  7,  8,  8,  8,  8,  8,  9,  9,  9,  9,  9, 10,\n",
       "        10, 10, 10, 10, 11, 11, 11, 11, 11, 12, 12, 12, 12, 12, 13, 13, 13,\n",
       "        13, 13, 14, 14, 14, 14, 14, 15, 15, 15, 15, 15, 16, 16, 16, 16, 16,\n",
       "        17, 17, 17, 17, 17, 18, 18, 18, 18, 18, 19, 19, 19, 19, 19, 20, 20,\n",
       "        20, 20, 20, 21, 21, 21, 21, 21, 22, 22, 22, 22, 22, 23, 23, 23, 23,\n",
       "        23, 24, 24, 24, 24, 24, 25, 25, 25, 25, 25, 26, 26, 26, 26, 26, 27,\n",
       "        27, 27, 27, 27, 28, 28, 28, 28, 28, 29, 29, 29, 29, 29, 30, 30, 30,\n",
       "        30, 30, 31, 31, 31, 31, 31, 32, 32, 32, 32, 32, 33, 33, 33, 33, 33,\n",
       "        34, 34, 34, 34, 34, 35, 35, 35, 35, 35]))"
      ]
     },
     "execution_count": 31,
     "metadata": {},
     "output_type": "execute_result"
    }
   ],
   "source": [
    "# import the table showing which LED segments light up for each character\n",
    "df = pd.read_csv('16_segment_truth_table2.csv')\n",
    "df = df.fillna(0)\n",
    "df.index = df.iloc[:,0].values\n",
    "df.drop(columns='char', inplace=True)\n",
    "df = df.astype(int)\n",
    "\n",
    "def led(df, n_obs=180,n_I=66, seed=0):\n",
    "    np.random.seed(seed)\n",
    "    rlvnt = df.values\n",
    "    red = np.logical_not(rlvnt)\n",
    "    rr = np.hstack([rlvnt, red])\n",
    "    d = rlvnt.shape[0]\n",
    "    q=n_obs//d\n",
    "    r=n_obs%d\n",
    "    rr_exp = np.vstack([np.repeat(rr, q, axis=0), rr[:r,:]])\n",
    "    irlvnt = np.random.randint(2, size=[n_obs,n_I])\n",
    "    y = np.array(range(36))\n",
    "    y = np.hstack([np.repeat(y, q), y[:r]])\n",
    "    cor = make_cor_adv(y, n_class=36)\n",
    "    features = np.hstack([rr_exp, cor, irlvnt])\n",
    "    return features, y\n",
    "    \n",
    "    \n",
    "X, y = led(n_obs=180,n_I=90, df=df)\n",
    "\n",
    "\n",
    "X, y"
   ]
  },
  {
   "cell_type": "markdown",
   "metadata": {
    "id": "8nz8Y3afgBu4"
   },
   "source": [
    "### PRC"
   ]
  },
  {
   "cell_type": "code",
   "execution_count": 32,
   "metadata": {
    "id": "He8Lp_AcgBu4"
   },
   "outputs": [
    {
     "data": {
      "text/plain": [
       "(array([[3.58801745, 3.13338574, 3.32624599, ..., 3.75249141, 3.00623777,\n",
       "         3.98430173],\n",
       "        [2.67424071, 3.31669614, 2.9495476 , ..., 3.35150958, 3.29399125,\n",
       "         3.92450521],\n",
       "        [3.04801452, 3.48475784, 3.25367924, ..., 3.96668199, 3.38958478,\n",
       "         3.29338089],\n",
       "        ...,\n",
       "        [3.26039937, 3.49816151, 2.31000499, ..., 3.92095383, 3.21207824,\n",
       "         3.37636976],\n",
       "        [2.78752099, 2.86757606, 2.95570647, ..., 3.63373196, 3.66568643,\n",
       "         3.50202453],\n",
       "        [2.44133206, 3.38411052, 3.35987286, ..., 3.25422661, 3.8668669 ,\n",
       "         3.04138781]]),\n",
       " [0.6937593826965497,\n",
       "  0.5986346601351837,\n",
       "  0.6373712341212849,\n",
       "  0.6101978926538122,\n",
       "  0.5848946315830535,\n",
       "  0.6093782215007715,\n",
       "  0.5581813299175287,\n",
       "  0.6218208862731849,\n",
       "  0.5519747942136953,\n",
       "  0.5580283345660548,\n",
       "  0.567797596352605,\n",
       "  0.596120505328424,\n",
       "  0.5515023938896366,\n",
       "  0.563338260945351,\n",
       "  0.6104027753015651,\n",
       "  0.5673361753228572,\n",
       "  0.5914285525477756,\n",
       "  0.6301520501714677,\n",
       "  0.6291002915979415,\n",
       "  0.6377814881996112,\n",
       "  0.5747008407218757,\n",
       "  0.6460182962034152,\n",
       "  0.6385525997486426,\n",
       "  0.6405304255859235,\n",
       "  0.5973578490871372,\n",
       "  0.6270321612953371,\n",
       "  0.5779778858410448,\n",
       "  0.6012417337289735,\n",
       "  0.6174611041723125,\n",
       "  0.5844764834883651,\n",
       "  0.5940474574684532,\n",
       "  0.5658298249608242,\n",
       "  0.6079522942928285,\n",
       "  0.5887158215073381,\n",
       "  0.6007374862264937,\n",
       "  0.5811740193963864,\n",
       "  0.5394298715383815,\n",
       "  0.5666962512289704,\n",
       "  0.5727909531732344,\n",
       "  0.6617351211763047,\n",
       "  0.6215105169118051,\n",
       "  0.5669031045507885,\n",
       "  0.6041493454367124,\n",
       "  0.623277969152411,\n",
       "  0.558772834844799,\n",
       "  0.5941749013086983,\n",
       "  0.5541835813603594,\n",
       "  0.6046859174660901,\n",
       "  0.5761290927138545,\n",
       "  0.5657998159885427])"
      ]
     },
     "execution_count": 32,
     "metadata": {},
     "output_type": "execute_result"
    }
   ],
   "source": [
    "def r_total(r_array):\n",
    "  r_sum = 0\n",
    "  for k in range(5):\n",
    "    rk_sum = 1\n",
    "    for j in range(5):\n",
    "      if j!=k:\n",
    "        rk_sum = rk_sum*r_array[j]\n",
    "    r_sum = r_sum + rk_sum\n",
    "  return np.product(r_array)/r_sum\n",
    "\n",
    "\n",
    "\n",
    "def prc(n_obs,n_I, seed):\n",
    "  np.random.seed(seed)\n",
    "  rlvnt = 3 + np.random.randn(n_obs,5)/3\n",
    "  red = 2*rlvnt+3   #redundant features are linear transform of relevant variables\n",
    "  rr = np.hstack([rlvnt, red])\n",
    "\n",
    "  irlvnt = 3 + np.random.randn(n_obs,n_I//2)/3\n",
    "  irlvnt = np.hstack([irlvnt, 3+np.random.rand(n_obs,n_I//2)])\n",
    "  \n",
    "  features = np.hstack([rr, irlvnt])\n",
    "  y = [r_total(features[j,:5]) for j in range(features.shape[0])]\n",
    "  return features, y\n",
    "\n",
    "X, y = prc(50, 90, 0)\n",
    "\n",
    "\n",
    "X, y"
   ]
  },
  {
   "cell_type": "code",
   "execution_count": null,
   "metadata": {},
   "outputs": [],
   "source": []
  }
 ],
 "metadata": {
  "colab": {
   "collapsed_sections": [
    "-2f7NP7PgBu0",
    "GdKx2u_DgBu3",
    "8nz8Y3afgBu4",
    "TwY8OGEEuw7i"
   ],
   "provenance": []
  },
  "kernelspec": {
   "display_name": "base",
   "language": "python",
   "name": "python3"
  },
  "language_info": {
   "codemirror_mode": {
    "name": "ipython",
    "version": 3
   },
   "file_extension": ".py",
   "mimetype": "text/x-python",
   "name": "python",
   "nbconvert_exporter": "python",
   "pygments_lexer": "ipython3",
   "version": "3.9.12 (main, Apr  4 2022, 05:22:27) [MSC v.1916 64 bit (AMD64)]"
  },
  "vscode": {
   "interpreter": {
    "hash": "a34a061c4e68b562d26bf0a13aa8a117e6eed362efbd76301742f9fa877c7f11"
   }
  }
 },
 "nbformat": 4,
 "nbformat_minor": 1
}
