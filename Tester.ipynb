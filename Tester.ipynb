{
 "cells": [
  {
   "cell_type": "code",
   "execution_count": 1,
   "metadata": {},
   "outputs": [],
   "source": [
    "from SyntheticFeatures import FeaturesGenerator"
   ]
  },
  {
   "cell_type": "code",
   "execution_count": 2,
   "metadata": {},
   "outputs": [
    {
     "name": "stdout",
     "output_type": "stream",
     "text": [
      "Features:  [[0 0 0 ... 1 0 0]\n",
      " [0 0 0 ... 0 1 0]\n",
      " [0 0 0 ... 0 0 1]\n",
      " ...\n",
      " [1 1 1 ... 0 1 1]\n",
      " [0 0 0 ... 1 1 0]\n",
      " [0 0 1 ... 1 0 1]]\n",
      "Target:  [0 0 0 0 0 0 0 0 0 0 0 0 0 0 0 0 0 0 0 0 0 0 0 0 0 0 0 0 0 0 1 1 1 1 1 1 1\n",
      " 1 1 1 1 1 1 1 1 1 1 1 0 0]\n",
      "Features:  [[0 0 0 ... 1 1 0]\n",
      " [0 0 0 ... 0 0 0]\n",
      " [0 0 0 ... 0 1 1]\n",
      " ...\n",
      " [1 1 1 ... 0 0 0]\n",
      " [0 0 0 ... 1 1 1]\n",
      " [0 0 1 ... 0 1 1]]\n",
      "Target:  [0 0 0 0 0 0 0 0 0 0 0 0 0 0 0 0 0 0 1 1 1 1 1 1 0 0 0 1 1 1 0 0 0 1 1 1 0\n",
      " 0 0 1 1 1 1 1 1 1 1 1 0 0]\n",
      "Features:  [[0 0 0 ... 0 1 1]\n",
      " [0 0 0 ... 0 1 0]\n",
      " [0 0 0 ... 0 0 0]\n",
      " ...\n",
      " [1 1 1 ... 1 0 1]\n",
      " [0 0 0 ... 0 1 1]\n",
      " [0 0 1 ... 0 0 0]]\n",
      "Target:  [0, 0, 0, 0, 0, 0, 1, 1, 1, 1, 1, 1, 1, 1, 1, 1, 1, 1, 2, 2, 2, 2, 2, 2, 1, 1, 1, 1, 1, 1, 2, 2, 2, 2, 2, 2, 2, 2, 2, 2, 2, 2, 3, 3, 3, 3, 3, 3, 0, 1]\n",
      "Features:  [[1 1 1 ... 1 1 0]\n",
      " [1 1 1 ... 0 0 0]\n",
      " [1 1 1 ... 0 1 1]\n",
      " ...\n",
      " [1 1 0 ... 0 0 0]\n",
      " [1 1 0 ... 1 1 1]\n",
      " [1 1 0 ... 1 1 1]]\n",
      "Target:  [ 0  0  0  0  0  1  1  1  1  1  2  2  2  2  2  3  3  3  3  3  4  4  4  4\n",
      "  4  5  5  5  5  5  6  6  6  6  6  7  7  7  7  7  8  8  8  8  8  9  9  9\n",
      "  9  9 10 10 10 10 10 11 11 11 11 11 12 12 12 12 12 13 13 13 13 13 14 14\n",
      " 14 14 14 15 15 15 15 15 16 16 16 16 16 17 17 17 17 17 18 18 18 18 18 19\n",
      " 19 19 19 19 20 20 20 20 20 21 21 21 21 21 22 22 22 22 22 23 23 23 23 23\n",
      " 24 24 24 24 24 25 25 25 25 25 26 26 26 26 26 27 27 27 27 27 28 28 28 28\n",
      " 28 29 29 29 29 29 30 30 30 30 30 31 31 31 31 31 32 32 32 32 32 33 33 33\n",
      " 33 33 34 34 34 34 34 35 35 35 35 35]\n",
      "Features:  [[3.58801745 3.13338574 3.32624599 ... 3.75249141 3.00623777 3.98430173]\n",
      " [2.67424071 3.31669614 2.9495476  ... 3.35150958 3.29399125 3.92450521]\n",
      " [3.04801452 3.48475784 3.25367924 ... 3.96668199 3.38958478 3.29338089]\n",
      " ...\n",
      " [3.26039937 3.49816151 2.31000499 ... 3.92095383 3.21207824 3.37636976]\n",
      " [2.78752099 2.86757606 2.95570647 ... 3.63373196 3.66568643 3.50202453]\n",
      " [2.44133206 3.38411052 3.35987286 ... 3.25422661 3.8668669  3.04138781]]\n",
      "Target:  [0.6937593826965497, 0.5986346601351837, 0.6373712341212849, 0.6101978926538122, 0.5848946315830535, 0.6093782215007715, 0.5581813299175287, 0.6218208862731849, 0.5519747942136953, 0.5580283345660548, 0.567797596352605, 0.596120505328424, 0.5515023938896366, 0.563338260945351, 0.6104027753015651, 0.5673361753228572, 0.5914285525477756, 0.6301520501714677, 0.6291002915979415, 0.6377814881996112, 0.5747008407218757, 0.6460182962034152, 0.6385525997486426, 0.6405304255859235, 0.5973578490871372, 0.6270321612953371, 0.5779778858410448, 0.6012417337289735, 0.6174611041723125, 0.5844764834883651, 0.5940474574684532, 0.5658298249608242, 0.6079522942928285, 0.5887158215073381, 0.6007374862264937, 0.5811740193963864, 0.5394298715383815, 0.5666962512289704, 0.5727909531732344, 0.6617351211763047, 0.6215105169118051, 0.5669031045507885, 0.6041493454367124, 0.623277969152411, 0.558772834844799, 0.5941749013086983, 0.5541835813603594, 0.6046859174660901, 0.5761290927138545, 0.5657998159885427]\n"
     ]
    }
   ],
   "source": [
    "'''\n",
    "Creating new datasets using different methods and saving them automatically to CSV files.\n",
    "'''\n",
    "features_generator = FeaturesGenerator()\n",
    "\n",
    "X, y = features_generator.gen_dataset_using_ORAND(seed=1, csv_file='orand.csv')\n",
    "print(\"Features: \", X)\n",
    "print(\"Target: \", y)\n",
    "\n",
    "\n",
    "\n",
    "X, y = features_generator.gen_dataset_using_ِANDOR(csv_file='andor.csv')\n",
    "print(\"Features: \", X)\n",
    "print(\"Target: \", y)\n",
    "\n",
    "\n",
    "X, y = features_generator.gen_dataset_using_ADDER(csv_file='adder.csv')\n",
    "print(\"Features: \", X)\n",
    "print(\"Target: \", y)\n",
    "\n",
    "X, y = features_generator.gen_dataset_using_LED(n_obs=180,n_I=90, csv_file='led.csv')\n",
    "print(\"Features: \", X)\n",
    "print(\"Target: \", y)\n",
    "\n",
    "X, y = features_generator.gen_dataset_using_PRC(50, 90, csv_file='prc.csv')\n",
    "print(\"Features: \", X)\n",
    "print(\"Target: \", y)\n",
    "    \n"
   ]
  },
  {
   "attachments": {},
   "cell_type": "markdown",
   "metadata": {},
   "source": [
    "Loading a previously generated and saved dataset from a CSV file."
   ]
  },
  {
   "cell_type": "code",
   "execution_count": 3,
   "metadata": {},
   "outputs": [
    {
     "name": "stdout",
     "output_type": "stream",
     "text": [
      "Features:  [[0. 0. 0. ... 1. 0. 0.]\n",
      " [0. 0. 0. ... 0. 1. 0.]\n",
      " [0. 0. 0. ... 0. 0. 1.]\n",
      " ...\n",
      " [1. 1. 1. ... 0. 1. 1.]\n",
      " [0. 0. 0. ... 1. 1. 0.]\n",
      " [0. 0. 1. ... 1. 0. 1.]]\n",
      "Target:  [0. 0. 0. 0. 0. 0. 0. 0. 0. 0. 0. 0. 0. 0. 0. 0. 0. 0. 0. 0. 0. 0. 0. 0.\n",
      " 0. 0. 0. 0. 0. 0. 1. 1. 1. 1. 1. 1. 1. 1. 1. 1. 1. 1. 1. 1. 1. 1. 1. 1.\n",
      " 0. 0.]\n"
     ]
    }
   ],
   "source": [
    "\n",
    "'''\n",
    "    Loading a previously generated and saved dataset from a CSV file.            \n",
    "'''\n",
    "features_generator = FeaturesGenerator()\n",
    "X, y = features_generator.loadCSV('orand.csv')\n",
    "\n",
    "print(\"Features: \", X)\n",
    "print(\"Target: \", y)\n"
   ]
  }
 ],
 "metadata": {
  "kernelspec": {
   "display_name": "base",
   "language": "python",
   "name": "python3"
  },
  "language_info": {
   "codemirror_mode": {
    "name": "ipython",
    "version": 3
   },
   "file_extension": ".py",
   "mimetype": "text/x-python",
   "name": "python",
   "nbconvert_exporter": "python",
   "pygments_lexer": "ipython3",
   "version": "3.9.12"
  },
  "orig_nbformat": 4,
  "vscode": {
   "interpreter": {
    "hash": "a34a061c4e68b562d26bf0a13aa8a117e6eed362efbd76301742f9fa877c7f11"
   }
  }
 },
 "nbformat": 4,
 "nbformat_minor": 2
}
